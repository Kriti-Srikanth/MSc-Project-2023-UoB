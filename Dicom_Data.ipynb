{
  "nbformat": 4,
  "nbformat_minor": 0,
  "metadata": {
    "colab": {
      "provenance": [],
      "authorship_tag": "ABX9TyNB2tsrnY1UsyuKxQ+hszW/"
    },
    "kernelspec": {
      "name": "python3",
      "display_name": "Python 3"
    },
    "language_info": {
      "name": "python"
    }
  },
  "cells": [
    {
      "cell_type": "code",
      "source": [
        "!pip install pydicom"
      ],
      "metadata": {
        "colab": {
          "base_uri": "https://localhost:8080/"
        },
        "id": "6PMRZksotgxr",
        "outputId": "bcf0a43d-9c3e-47c3-bfa4-20208618ea85"
      },
      "execution_count": 2,
      "outputs": [
        {
          "output_type": "stream",
          "name": "stdout",
          "text": [
            "Collecting pydicom\n",
            "  Downloading pydicom-2.4.2-py3-none-any.whl (1.8 MB)\n",
            "\u001b[2K     \u001b[90m━━━━━━━━━━━━━━━━━━━━━━━━━━━━━━━━━━━━━━━━\u001b[0m \u001b[32m1.8/1.8 MB\u001b[0m \u001b[31m12.0 MB/s\u001b[0m eta \u001b[36m0:00:00\u001b[0m\n",
            "\u001b[?25hInstalling collected packages: pydicom\n",
            "Successfully installed pydicom-2.4.2\n"
          ]
        }
      ]
    },
    {
      "cell_type": "code",
      "execution_count": 3,
      "metadata": {
        "id": "aMfy0UD6oldV"
      },
      "outputs": [],
      "source": [
        "import random\n",
        "import sys\n",
        "import cv2\n",
        "import numpy\n",
        "import glob\n",
        "import os\n",
        "import pydicom\n",
        "from scipy import ndimage\n",
        "from scipy.ndimage import gaussian_filter\n",
        "from scipy.ndimage import map_coordinates\n",
        "import numpy as np\n",
        "\n",
        "\n",
        "dir=\"D:\\\\data_kaggle_ndsb\"\n",
        "preprocessed_image=\"D:\\\\data_kaggle_ndsb\\\\data_preprocessed\"\n",
        "\n",
        "from pathlib import Path\n",
        "\n",
        "def create_dir_if_not_exists(path: Path):\n",
        "    path.mkdir(parents=True, exist_ok=True)\n",
        "\n",
        "\n",
        "def patient_directory(patient_id, base_patient_dir=\".\\\\data_patient_predictions\\\\\"):\n",
        "    prefix = str(patient_id).rjust(4, '0')\n",
        "    patient_dir = Path(base_patient_dir)\n",
        "    create_dir_if_not_exists(patient_dir)\n",
        "    return patient_dir\n",
        "\n",
        "def image_directory(patient_id):\n",
        "    image_dir = patient_directory(patient_id)\n",
        "    create_dir_if_not_exists(image_dir)\n",
        "    return image_dir\n",
        "\n",
        "def files(base_dir, pattern):\n",
        "    return list(base_dir.glob(pattern))\n",
        "\n",
        "def patient_files(patient_id, file_type, extension=\".png\"):\n",
        "    directory_functions = {\n",
        "        \"images\": patient_directory\n",
        "    }\n",
        "\n",
        "    base_dir = directory_functions.get(file_type, patient_directory)\n",
        "    files_dir = base_dir(patient_id)\n",
        "\n",
        "    prefix = str(patient_id).rjust(4, '0')\n",
        "    file_path = files(base_dir, prefix + \"*\" + extension)\n",
        "    return file_path\n"
      ]
    },
    {
      "cell_type": "code",
      "source": [
        "\"\"\"data\n",
        "│\n",
        "├── Train\n",
        "│   ├── train\n",
        "│   ├── study\n",
        "│   ├── sax_folder1\n",
        "│   │   ├── image1.dcm\n",
        "│   │   ├── ...\n",
        "│   ├── sax_folder2\n",
        "│   │   ├── ...\n",
        "│   ...\n",
        "│\n",
        "├── Test\n",
        "│   ├── test\n",
        "│   ├── study\n",
        "│   ├── sax_folder1\n",
        "│   │   ├── ...\n",
        "│   ├── ...\n",
        "│\n",
        "└── Validate\n",
        "    ├── validate\n",
        "    ├── study\n",
        "    ├── sax_folder1\n",
        "    │   ├── ...\n",
        "    ├── ...\n",
        "\"\"\""
      ],
      "metadata": {
        "id": "sZsg3auotVKL"
      },
      "execution_count": null,
      "outputs": []
    },
    {
      "cell_type": "code",
      "source": [
        "from pathlib import Path\n",
        "\n",
        "class DicomWrapper:\n",
        "    def __init__(self, root: Path, file_name: str):\n",
        "       pass\n",
        "\n",
        "def sax_folders(patient_ids=None):\n",
        "    BASE_DIR = Path(\"data\")\n",
        "    MAIN_DIRECTORIES = [\"Train\", \"Test\", \"Validate\"]\n",
        "    DICOM_EXTENSION = \".dcm\"\n",
        "\n",
        "    for main_dir_name in MAIN_DIRECTORIES:\n",
        "        main_dir_path = BASE_DIR / main_dir_name\n",
        "        for sax_folder in main_dir_path.glob(\"sax*\"):\n",
        "            for dicom_file in sax_folder.glob(f\"*{DICOM_EXTENSION}\"):\n",
        "\n",
        "                patient_id = sax_folder.parent.name\n",
        "                if patient_ids is not None and patient_id not in patient_ids:\n",
        "                    continue\n",
        "\n",
        "                dicom_data = DicomWrapper(sax_folder, dicom_file.name)\n",
        "                yield dicom_data\n",
        "\n",
        "dicom_files = list(sax_folders())\n",
        "print(dicom_files)\n"
      ],
      "metadata": {
        "id": "iXKuCbgCxn4G"
      },
      "execution_count": null,
      "outputs": []
    },
    {
      "cell_type": "code",
      "source": [
        "OUTPUT_SIZE = (256, 256)\n",
        "\n",
        "def load_dicom_image(path):\n",
        "    dicom = pydicom.dcmread(path)\n",
        "    img = dicom.pixel_array\n",
        "    return img, dicom\n",
        "\n",
        "def normalize_pixel_spacing(image, metadata):\n",
        "\n",
        "    px_spacing = metadata.PixelSpacing\n",
        "    zoom_factor = [s/float(px_spacing[i]) for i, s in enumerate(image.shape)]\n",
        "    normalized_img = cv2.resize(image, None, fx=zoom_factor[1], fy=zoom_factor[0], interpolation=cv2.INTER_LINEAR)\n",
        "    return normalized_img\n",
        "\n",
        "def center_crop(img, dim):\n",
        "    center_x, center_y = img.shape[1] // 2, img.shape[0] // 2\n",
        "    cropped = img[center_y - dim[0]//2 : center_y + dim[0]//2,\n",
        "                  center_x - dim[1]//2 : center_x + dim[1]//2]\n",
        "    return cropped\n",
        "\n",
        "def random_rotation(img):\n",
        "    angle = np.random.uniform(-15, 15)\n",
        "    rotated = cv2.getRotationMatrix2D((img.shape[1]/2, img.shape[0]/2), angle, 1)\n",
        "    rotated_img = cv2.warpAffine(img, rotated, img.shape[1::-1])\n",
        "    return rotated_img\n",
        "\n",
        "for set_name in [\"Train\", \"Test\", \"Validate\"]:\n",
        "    for root, dirs, files in os.walk(set_name):\n",
        "        for file in files:\n",
        "            if file.endswith(\".dcm\"):\n",
        "                dicom_path = os.path.join(root, file)\n",
        "                image, meta = load_dicom_image(dicom_path)\n",
        "                image = center_crop(image, OUTPUT_SIZE)\n",
        "                image = random_rotation(image)\n",
        "                image = normalize_pixel_spacing(image, meta)\n",
        "                image = cv2.resize(image, OUTPUT_SIZE)\n",
        "                output_path = dicom_path.replace('.dcm', '.png').replace(set_name, set_name + '_processed')\n",
        "                if not os.path.exists(os.path.dirname(output_path)):\n",
        "                    os.makedirs(os.path.dirname(output_path))\n",
        "                cv2.imwrite(output_path, image)\n"
      ],
      "metadata": {
        "id": "95Hv7QPax-P-"
      },
      "execution_count": null,
      "outputs": []
    },
    {
      "cell_type": "code",
      "source": [
        "import pydicom as dicom\n",
        "import numpy\n",
        "\n",
        "class DicomWrapper:\n",
        "    def __init__(self, file_path):\n",
        "        self.raw_file = dicom.read_file(file_path)\n",
        "        self.file_name = file_path.split('/')[-1]\n",
        "\n",
        "    def get_value(self, name):\n",
        "        \"\"\"Utility method to retrieve the value of a given DICOM tag.\"\"\"\n",
        "        return self.raw_file.data_element(name).value if name in self.raw_file else None\n",
        "\n",
        "    @property\n",
        "    def pixel_array(self):\n",
        "        \"\"\"Returns the normalized pixel array of the DICOM image.\"\"\"\n",
        "        img = self.raw_file.pixel_array.astype(float) / numpy.max(self.raw_file.pixel_array)\n",
        "        return img\n",
        "\n",
        "    def dir(self):\n",
        "        \"\"\"List all available DICOM tags.\"\"\"\n",
        "        return self.raw_file.dir()\n",
        "\n",
        "dicom_wrapper = DicomWrapper(\"path_to_dicom_file.dcm\")\n",
        "print(dicom_wrapper.get_value(\"Columns\"))  # For example, to get \"Columns\".\n"
      ],
      "metadata": {
        "id": "f6fk_6K414HB"
      },
      "execution_count": null,
      "outputs": []
    },
    {
      "cell_type": "code",
      "source": [
        "import cv2\n",
        "import os\n",
        "\n",
        "def read_img_from_folder(root_dir, img_name, label_name, scale_size=None, regress_overlay=False):\n",
        "    img_path = os.path.join(root_dir, img_name)\n",
        "    img = cv2.imread(img_path, cv2.IMREAD_GRAYSCALE).astype(float)\n",
        "\n",
        "    if regress_overlay:\n",
        "        label_path = os.path.join(root_dir, label_name)\n",
        "        label = cv2.imread(label_path, cv2.IMREAD_GRAYSCALE).astype(float)\n",
        "    else:\n",
        "        label = float(label_name)\n",
        "\n",
        "    if scale_size:\n",
        "        img = cv2.resize(img, (scale_size, scale_size), interpolation=cv2.INTER_AREA)\n",
        "        if regress_overlay:\n",
        "            label = cv2.resize(label, (scale_size, scale_size), interpolation=cv2.INTER_AREA)\n",
        "\n",
        "    return img, label\n",
        "\n"
      ],
      "metadata": {
        "id": "Ui8UJw4R2lfC"
      },
      "execution_count": null,
      "outputs": []
    },
    {
      "cell_type": "markdown",
      "source": [
        "Test Image\n"
      ],
      "metadata": {
        "id": "4Ha5Zay7Rwa0"
      }
    },
    {
      "cell_type": "code",
      "source": [
        "with tf.keras.utils.CustomObjectScope({\"dice_coef\": dice_coef, \"dice_loss\": dice_loss}):\n",
        "  model = tf.keras.models.load_model(os.path.join(\"/content/drive/MyDrive/files/\", \"model.h5\"))\n",
        "def preprocess_image(image_path):\n",
        "\n",
        "    image = cv2.imread(image_path, cv2.IMREAD_COLOR)\n",
        "    image = cv2.cvtColor(image, cv2.COLOR_BGR2RGB)\n",
        "    image = cv2.resize(image, (256, 256))\n",
        "\n",
        "    image = image / 255.0\n",
        "\n",
        "    image = np.expand_dims(image, axis=0)\n",
        "\n",
        "    return image\n",
        "\n",
        "\n",
        "new_image_path = '/content/drive/MyDrive/Segmentation/0704_00000sax_08_10110_IM-6798-0008.png'\n",
        "new_image = preprocess_image(new_image_path)\n",
        "\n",
        "\n",
        "predicted_mask = model.predict(new_image)\n",
        "save_mask='/content/drive/MyDrive/Segmentation/0704.png'\n",
        "\n",
        "def overlay_mask_on_image(original_image, mask):\n",
        "    alpha = 0.7\n",
        "    overlay = original_image.copy()\n",
        "    overlay[mask > 0.5] = [0, 255, 0]\n",
        "    return cv2.addWeighted(overlay, alpha, original_image, 1 - alpha, 0)\n",
        "\n",
        "\n",
        "plt.figure(figsize=(5, 5))\n",
        "plt.subplot(1, 2, 1)\n",
        "plt.imshow(new_image[0])\n",
        "plt.title('Original Image')\n",
        "\n",
        "plt.subplot(1, 2, 2)\n",
        "plt.imshow(predicted_mask[0, :, :, 0], cmap='gray')\n",
        "plt.title('Predicted Mask')\n",
        "\n",
        "plt.show()\n"
      ],
      "metadata": {
        "id": "9ct4zEP3RyLS"
      },
      "execution_count": null,
      "outputs": []
    },
    {
      "cell_type": "code",
      "source": [
        "predicted_mask = model.predict(new_image)\n",
        "\n",
        "threshold_value = 0.5\n",
        "binary_mask = (predicted_mask[0, :, :, 0] > threshold_value).astype(np.uint8)\n",
        "\n",
        "\n",
        "new_image_8u = (new_image[0] * 255).astype(np.uint8)\n",
        "overlayed_image = overlay_mask_on_image(new_image_8u, binary_mask)\n",
        "\n",
        "\n",
        "plt.figure(figsize=(5, 5))\n",
        "plt.subplot(1, 2, 1)\n",
        "plt.imshow(new_image_8u)\n",
        "plt.title('Original Image')\n",
        "\n",
        "plt.subplot(1, 2, 2)\n",
        "plt.imshow(overlayed_image)\n",
        "plt.title('Overlayed Image')\n",
        "\n",
        "plt.show()"
      ],
      "metadata": {
        "id": "YoYmKVHHR2Hp"
      },
      "execution_count": null,
      "outputs": []
    }
  ]
}